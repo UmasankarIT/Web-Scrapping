{
 "cells": [
  {
   "cell_type": "markdown",
   "id": "c8800623",
   "metadata": {},
   "source": [
    "Project Objective:\n",
    "\n",
    "The objective of this mini project is to develop skills in web scraping by extracting and analyzing car details from Cars24.com. Interns will focus on gathering data specific to the Mumbai location, covering key details such as kilometers driven, year of manufacture, fuel type, transmission, and price. By the end of this project, interns will have hands-on experience in web scraping, data cleaning, and presenting structured data for analysis.\n",
    "\n",
    "\n",
    "Project Requirements:\n",
    "\n",
    "1) Scraping Target: Cars listed on Cars24.com from 3 locations.\n",
    "\n",
    "\n",
    "2) Data to Collect:\n",
    "\n",
    "Kilometers Driven\n",
    "\n",
    "Year of Manufacture\n",
    "\n",
    "Fuel Type\n",
    "\n",
    "Transmission\n",
    "\n",
    "Price\n",
    "\n",
    "Location\n",
    "\n",
    "Number of owners"
   ]
  },
  {
   "cell_type": "code",
   "execution_count": 1,
   "id": "ae84f0e1",
   "metadata": {},
   "outputs": [
    {
     "name": "stdout",
     "output_type": "stream",
     "text": [
      "https://www.cars24.com/buy-used-audi-cars-chennai/\n"
     ]
    }
   ],
   "source": [
    "link = \"https://www.cars24.com/buy-used-audi-cars-chennai/\"\n",
    "print(link)"
   ]
  },
  {
   "cell_type": "code",
   "execution_count": 2,
   "id": "499f8a16",
   "metadata": {},
   "outputs": [
    {
     "name": "stdout",
     "output_type": "stream",
     "text": [
      "<Response [200]>\n"
     ]
    }
   ],
   "source": [
    "import requests\n",
    "\n",
    "page = requests.get(link)\n",
    "print(page)"
   ]
  },
  {
   "cell_type": "code",
   "execution_count": 3,
   "id": "91f6002a",
   "metadata": {},
   "outputs": [],
   "source": [
    "from bs4 import BeautifulSoup as bs"
   ]
  },
  {
   "cell_type": "code",
   "execution_count": 4,
   "id": "a125c966",
   "metadata": {},
   "outputs": [],
   "source": [
    "page_html = bs(page.content, \"html.parser\")"
   ]
  },
  {
   "cell_type": "code",
   "execution_count": 5,
   "id": "fd8fff60",
   "metadata": {},
   "outputs": [],
   "source": [
    "cars = page_html.find_all('div', {\"class\" : \"styles_outer__NTVth\"})"
   ]
  },
  {
   "cell_type": "code",
   "execution_count": 6,
   "id": "6d08ef29",
   "metadata": {},
   "outputs": [
    {
     "data": {
      "text/plain": [
       "3"
      ]
     },
     "execution_count": 6,
     "metadata": {},
     "output_type": "execute_result"
    }
   ],
   "source": [
    "len(cars)"
   ]
  },
  {
   "cell_type": "code",
   "execution_count": 7,
   "id": "ed28a9bf",
   "metadata": {},
   "outputs": [],
   "source": [
    "from selenium import webdriver\n",
    "import time"
   ]
  },
  {
   "cell_type": "code",
   "execution_count": null,
   "id": "e08ae328",
   "metadata": {},
   "outputs": [],
   "source": [
    "page_html = bs(html, \"html.parser\")\n",
    "cars = page_html.find_all('div', {\"class\" : \"styles_outer__NTVth\"})"
   ]
  },
  {
   "cell_type": "code",
   "execution_count": null,
   "id": "dee7aa51",
   "metadata": {},
   "outputs": [],
   "source": [
    "len(cars)"
   ]
  },
  {
   "cell_type": "code",
   "execution_count": null,
   "id": "583eddda",
   "metadata": {},
   "outputs": [],
   "source": [
    "car = cars[1]"
   ]
  },
  {
   "cell_type": "code",
   "execution_count": null,
   "id": "e0688d42",
   "metadata": {},
   "outputs": [],
   "source": [
    "print(car.prettify())"
   ]
  },
  {
   "cell_type": "code",
   "execution_count": null,
   "id": "eb27129a",
   "metadata": {},
   "outputs": [],
   "source": [
    "name = car.find('span').get_text()\n",
    "print(name)"
   ]
  },
  {
   "cell_type": "code",
   "execution_count": null,
   "id": "68ee3425",
   "metadata": {},
   "outputs": [],
   "source": [
    "manufacture_year = name.split()[0]\n",
    "brand_name = name.split()[1]\n",
    "car_model = \" \".join(name.split()[1:])"
   ]
  },
  {
   "cell_type": "code",
   "execution_count": null,
   "id": "a27c6b24",
   "metadata": {},
   "outputs": [],
   "source": [
    "print(manufacture_year)\n",
    "print(brand_name)\n",
    "print(car_model)"
   ]
  },
  {
   "cell_type": "code",
   "execution_count": null,
   "id": "7919709f",
   "metadata": {},
   "outputs": [],
   "source": [
    "product = car.find('div').get_text()"
   ]
  },
  {
   "cell_type": "code",
   "execution_count": 17,
   "id": "61a1994c",
   "metadata": {},
   "outputs": [
    {
     "name": "stdout",
     "output_type": "stream",
     "text": [
      "\n",
      "================ Mumbai Cars ================\n",
      "\n",
      "Total Cars Found: 12\n",
      "\n",
      "================ Chennai Cars ================\n",
      "\n",
      "Total Cars Found: 3\n",
      "\n",
      "================ Bangalore Cars ================\n",
      "\n",
      "Total Cars Found: 12\n",
      "\n",
      "✅ Done — saved 27 records to Audi_webScrapping.csv\n"
     ]
    }
   ],
   "source": [
    "from selenium import webdriver\n",
    "from bs4 import BeautifulSoup as bs\n",
    "import time\n",
    "import pandas as pd\n",
    "\n",
    "# List of cities\n",
    "cities = [\"mumbai\", \"chennai\", \"bangalore\"]\n",
    "\n",
    "rows = []\n",
    "\n",
    "# Selenium options (optional: run headless)\n",
    "options = webdriver.ChromeOptions()\n",
    "options.add_argument(\"--start-maximized\")\n",
    "\n",
    "for city in cities:\n",
    "    print(f\"\\n================ {city.title()} Cars ================\\n\")\n",
    "    \n",
    "    url = f\"https://www.cars24.com/buy-used-audi-cars-{city}/\"\n",
    "\n",
    "    # Initialize browser\n",
    "    browser = webdriver.Chrome(options=options)\n",
    "    \n",
    "    try:\n",
    "        browser.get(url)\n",
    "        time.sleep(3)\n",
    "\n",
    "        # Scroll until no new cars load\n",
    "        ini_height = browser.execute_script(\"return document.body.scrollHeight\")\n",
    "\n",
    "        while True:\n",
    "            browser.execute_script(\"window.scrollTo(0, document.body.scrollHeight);\")\n",
    "            time.sleep(3)\n",
    "            new_height = browser.execute_script(\"return document.body.scrollHeight\")\n",
    "            if new_height == ini_height:\n",
    "                break\n",
    "            ini_height = new_height\n",
    "\n",
    "        html = browser.page_source\n",
    "    except Exception as e:\n",
    "        print(f\"⚠️ Failed to load {city}: {e}\")\n",
    "        browser.quit()\n",
    "        continue\n",
    "\n",
    "    browser.quit()\n",
    "\n",
    "    # Parse page with BeautifulSoup\n",
    "    soup = bs(html, \"html.parser\")\n",
    "    cars = soup.find_all('div', {\"class\" : \"styles_outer__NTVth\"})\n",
    "    print(f\"Total Cars Found: {len(cars)}\")\n",
    "\n",
    "    for car in cars:\n",
    "        # Safe extraction with checks\n",
    "        name_tag = car.find('span', {'class': \"sc-braxZu kjFjan\"})\n",
    "        if not name_tag:\n",
    "            continue\n",
    "\n",
    "        name = name_tag.get_text(strip=True)\n",
    "        manufacture_year = name.split()[0] if name else \"N/A\"\n",
    "        brand_name = name.split()[1] if len(name.split()) > 1 else \"N/A\"\n",
    "        car_model = \" \".join(name.split()[1:]) if len(name.split()) > 1 else \"N/A\"\n",
    "\n",
    "        details = car.find_all('p', {'class': \"sc-braxZu kvfdZL\"})\n",
    "        kilometers_driven = details[0].get_text(strip=True) if len(details) > 0 else \"N/A\"\n",
    "        fuel_type = details[1].get_text(strip=True) if len(details) > 1 else \"N/A\"\n",
    "        transmission = details[2].get_text(strip=True) if len(details) > 2 else \"N/A\"\n",
    "        reg_no = details[3].get_text(strip=True) if len(details) > 3 else \"N/A\"\n",
    "        owners = details[4].get_text(strip=True) if len(details) > 4 else \"N/A\"\n",
    "\n",
    "        price_tag = car.find('p', {'class': \"sc-braxZu cyPhJl\"})\n",
    "        price = price_tag.get_text(strip=True) if price_tag else \"N/A\"\n",
    "\n",
    "        location = city.title()  # Use loop variable, not page\n",
    "\n",
    "        # Append row\n",
    "        rows.append({\n",
    "            \"Car Name\": name,\n",
    "            \"Brand\": brand_name,\n",
    "            \"Model\": car_model,\n",
    "            \"Kilometers Driven\": kilometers_driven,\n",
    "            \"Year of Manufacture\": manufacture_year,\n",
    "            \"Fuel Type\": fuel_type,\n",
    "            \"Transmission\": transmission,\n",
    "            \"Price\": price,\n",
    "            \"Location\": location,\n",
    "            \"Registration No\": reg_no,\n",
    "            \"Number of Owners\": owners\n",
    "        })\n",
    "\n",
    "# Save to CSV with correct encoding for ₹ symbol\n",
    "df = pd.DataFrame(rows)\n",
    "df.to_csv(\"Audi_webScrapping.csv\", index=False, encoding=\"utf-8-sig\")\n",
    "print(f\"\\n✅ Done — saved {len(df)} records to Audi_webScrapping.csv\")\n"
   ]
  },
  {
   "cell_type": "code",
   "execution_count": 15,
   "id": "5e4af5c7",
   "metadata": {},
   "outputs": [
    {
     "data": {
      "text/html": [
       "<div>\n",
       "<style scoped>\n",
       "    .dataframe tbody tr th:only-of-type {\n",
       "        vertical-align: middle;\n",
       "    }\n",
       "\n",
       "    .dataframe tbody tr th {\n",
       "        vertical-align: top;\n",
       "    }\n",
       "\n",
       "    .dataframe thead th {\n",
       "        text-align: right;\n",
       "    }\n",
       "</style>\n",
       "<table border=\"1\" class=\"dataframe\">\n",
       "  <thead>\n",
       "    <tr style=\"text-align: right;\">\n",
       "      <th></th>\n",
       "      <th>Car Name</th>\n",
       "      <th>Brand</th>\n",
       "      <th>Model</th>\n",
       "      <th>Kilometers Driven</th>\n",
       "      <th>Year of Manufacture</th>\n",
       "      <th>Fuel Type</th>\n",
       "      <th>Transmission</th>\n",
       "      <th>Price</th>\n",
       "      <th>Location</th>\n",
       "      <th>Registration No</th>\n",
       "      <th>Number of Owners</th>\n",
       "    </tr>\n",
       "  </thead>\n",
       "  <tbody>\n",
       "    <tr>\n",
       "      <th>0</th>\n",
       "      <td>2010 Audi A4</td>\n",
       "      <td>Audi</td>\n",
       "      <td>Audi A4</td>\n",
       "      <td>12.35k km</td>\n",
       "      <td>2010</td>\n",
       "      <td>Petrol</td>\n",
       "      <td>Auto</td>\n",
       "      <td>₹4.00 lakh</td>\n",
       "      <td>Mumbai</td>\n",
       "      <td>MH-01</td>\n",
       "      <td>N/A</td>\n",
       "    </tr>\n",
       "    <tr>\n",
       "      <th>1</th>\n",
       "      <td>2010 Audi Q5</td>\n",
       "      <td>Audi</td>\n",
       "      <td>Audi Q5</td>\n",
       "      <td>99.56k km</td>\n",
       "      <td>2010</td>\n",
       "      <td>Petrol</td>\n",
       "      <td>Auto</td>\n",
       "      <td>₹5.13 lakh</td>\n",
       "      <td>Mumbai</td>\n",
       "      <td>MH-05</td>\n",
       "      <td>N/A</td>\n",
       "    </tr>\n",
       "    <tr>\n",
       "      <th>2</th>\n",
       "      <td>2013 Audi A6</td>\n",
       "      <td>Audi</td>\n",
       "      <td>Audi A6</td>\n",
       "      <td>1.3L km</td>\n",
       "      <td>2013</td>\n",
       "      <td>Diesel</td>\n",
       "      <td>Auto</td>\n",
       "      <td>₹12.30 lakh</td>\n",
       "      <td>Mumbai</td>\n",
       "      <td>MH-01</td>\n",
       "      <td>N/A</td>\n",
       "    </tr>\n",
       "    <tr>\n",
       "      <th>3</th>\n",
       "      <td>2011 Audi A4</td>\n",
       "      <td>Audi</td>\n",
       "      <td>Audi A4</td>\n",
       "      <td>48.18k km</td>\n",
       "      <td>2011</td>\n",
       "      <td>Petrol</td>\n",
       "      <td>Auto</td>\n",
       "      <td>₹5.36 lakh</td>\n",
       "      <td>Mumbai</td>\n",
       "      <td>MH-01</td>\n",
       "      <td>N/A</td>\n",
       "    </tr>\n",
       "    <tr>\n",
       "      <th>4</th>\n",
       "      <td>2011 Audi A6</td>\n",
       "      <td>Audi</td>\n",
       "      <td>Audi A6</td>\n",
       "      <td>1.3L km</td>\n",
       "      <td>2011</td>\n",
       "      <td>Diesel</td>\n",
       "      <td>Auto</td>\n",
       "      <td>₹6.55 lakh</td>\n",
       "      <td>Mumbai</td>\n",
       "      <td>MH-04</td>\n",
       "      <td>N/A</td>\n",
       "    </tr>\n",
       "  </tbody>\n",
       "</table>\n",
       "</div>"
      ],
      "text/plain": [
       "       Car Name Brand    Model Kilometers Driven Year of Manufacture  \\\n",
       "0  2010 Audi A4  Audi  Audi A4         12.35k km                2010   \n",
       "1  2010 Audi Q5  Audi  Audi Q5         99.56k km                2010   \n",
       "2  2013 Audi A6  Audi  Audi A6           1.3L km                2013   \n",
       "3  2011 Audi A4  Audi  Audi A4         48.18k km                2011   \n",
       "4  2011 Audi A6  Audi  Audi A6           1.3L km                2011   \n",
       "\n",
       "  Fuel Type Transmission        Price Location Registration No  \\\n",
       "0    Petrol         Auto   ₹4.00 lakh   Mumbai           MH-01   \n",
       "1    Petrol         Auto   ₹5.13 lakh   Mumbai           MH-05   \n",
       "2    Diesel         Auto  ₹12.30 lakh   Mumbai           MH-01   \n",
       "3    Petrol         Auto   ₹5.36 lakh   Mumbai           MH-01   \n",
       "4    Diesel         Auto   ₹6.55 lakh   Mumbai           MH-04   \n",
       "\n",
       "  Number of Owners  \n",
       "0              N/A  \n",
       "1              N/A  \n",
       "2              N/A  \n",
       "3              N/A  \n",
       "4              N/A  "
      ]
     },
     "execution_count": 15,
     "metadata": {},
     "output_type": "execute_result"
    }
   ],
   "source": [
    "df.head()"
   ]
  },
  {
   "cell_type": "code",
   "execution_count": 16,
   "id": "2d07d402",
   "metadata": {},
   "outputs": [
    {
     "data": {
      "text/html": [
       "<div>\n",
       "<style scoped>\n",
       "    .dataframe tbody tr th:only-of-type {\n",
       "        vertical-align: middle;\n",
       "    }\n",
       "\n",
       "    .dataframe tbody tr th {\n",
       "        vertical-align: top;\n",
       "    }\n",
       "\n",
       "    .dataframe thead th {\n",
       "        text-align: right;\n",
       "    }\n",
       "</style>\n",
       "<table border=\"1\" class=\"dataframe\">\n",
       "  <thead>\n",
       "    <tr style=\"text-align: right;\">\n",
       "      <th></th>\n",
       "      <th>Car Name</th>\n",
       "      <th>Brand</th>\n",
       "      <th>Model</th>\n",
       "      <th>Kilometers Driven</th>\n",
       "      <th>Year of Manufacture</th>\n",
       "      <th>Fuel Type</th>\n",
       "      <th>Transmission</th>\n",
       "      <th>Price</th>\n",
       "      <th>Location</th>\n",
       "      <th>Registration No</th>\n",
       "      <th>Number of Owners</th>\n",
       "    </tr>\n",
       "  </thead>\n",
       "  <tbody>\n",
       "    <tr>\n",
       "      <th>22</th>\n",
       "      <td>2013 Audi Q5</td>\n",
       "      <td>Audi</td>\n",
       "      <td>Audi Q5</td>\n",
       "      <td>1.7L km</td>\n",
       "      <td>2013</td>\n",
       "      <td>Diesel</td>\n",
       "      <td>Auto</td>\n",
       "      <td>₹12.82 lakh</td>\n",
       "      <td>Bangalore</td>\n",
       "      <td>KA-03</td>\n",
       "      <td>N/A</td>\n",
       "    </tr>\n",
       "    <tr>\n",
       "      <th>23</th>\n",
       "      <td>2018 Audi A6</td>\n",
       "      <td>Audi</td>\n",
       "      <td>Audi A6</td>\n",
       "      <td>1.0L km</td>\n",
       "      <td>2018</td>\n",
       "      <td>Diesel</td>\n",
       "      <td>Auto</td>\n",
       "      <td>₹25.00 lakh</td>\n",
       "      <td>Bangalore</td>\n",
       "      <td>KA-01</td>\n",
       "      <td>N/A</td>\n",
       "    </tr>\n",
       "    <tr>\n",
       "      <th>24</th>\n",
       "      <td>2013 Audi Q3</td>\n",
       "      <td>Audi</td>\n",
       "      <td>Audi Q3</td>\n",
       "      <td>1.1L km</td>\n",
       "      <td>2013</td>\n",
       "      <td>Diesel</td>\n",
       "      <td>Auto</td>\n",
       "      <td>₹10.85 lakh</td>\n",
       "      <td>Bangalore</td>\n",
       "      <td>KA-41</td>\n",
       "      <td>N/A</td>\n",
       "    </tr>\n",
       "    <tr>\n",
       "      <th>25</th>\n",
       "      <td>2014 Audi A3</td>\n",
       "      <td>Audi</td>\n",
       "      <td>Audi A3</td>\n",
       "      <td>1.2L km</td>\n",
       "      <td>2014</td>\n",
       "      <td>Diesel</td>\n",
       "      <td>Auto</td>\n",
       "      <td>₹13.00 lakh</td>\n",
       "      <td>Bangalore</td>\n",
       "      <td>KA-51</td>\n",
       "      <td>N/A</td>\n",
       "    </tr>\n",
       "    <tr>\n",
       "      <th>26</th>\n",
       "      <td>2011 Audi Q5</td>\n",
       "      <td>Audi</td>\n",
       "      <td>Audi Q5</td>\n",
       "      <td>1.1L km</td>\n",
       "      <td>2011</td>\n",
       "      <td>Diesel</td>\n",
       "      <td>Auto</td>\n",
       "      <td>₹10.00 lakh</td>\n",
       "      <td>Bangalore</td>\n",
       "      <td>KA-51</td>\n",
       "      <td>N/A</td>\n",
       "    </tr>\n",
       "  </tbody>\n",
       "</table>\n",
       "</div>"
      ],
      "text/plain": [
       "        Car Name Brand    Model Kilometers Driven Year of Manufacture  \\\n",
       "22  2013 Audi Q5  Audi  Audi Q5           1.7L km                2013   \n",
       "23  2018 Audi A6  Audi  Audi A6           1.0L km                2018   \n",
       "24  2013 Audi Q3  Audi  Audi Q3           1.1L km                2013   \n",
       "25  2014 Audi A3  Audi  Audi A3           1.2L km                2014   \n",
       "26  2011 Audi Q5  Audi  Audi Q5           1.1L km                2011   \n",
       "\n",
       "   Fuel Type Transmission        Price   Location Registration No  \\\n",
       "22    Diesel         Auto  ₹12.82 lakh  Bangalore           KA-03   \n",
       "23    Diesel         Auto  ₹25.00 lakh  Bangalore           KA-01   \n",
       "24    Diesel         Auto  ₹10.85 lakh  Bangalore           KA-41   \n",
       "25    Diesel         Auto  ₹13.00 lakh  Bangalore           KA-51   \n",
       "26    Diesel         Auto  ₹10.00 lakh  Bangalore           KA-51   \n",
       "\n",
       "   Number of Owners  \n",
       "22              N/A  \n",
       "23              N/A  \n",
       "24              N/A  \n",
       "25              N/A  \n",
       "26              N/A  "
      ]
     },
     "execution_count": 16,
     "metadata": {},
     "output_type": "execute_result"
    }
   ],
   "source": [
    "df.tail()"
   ]
  }
 ],
 "metadata": {
  "kernelspec": {
   "display_name": ".venv (3.13.7)",
   "language": "python",
   "name": "python3"
  },
  "language_info": {
   "codemirror_mode": {
    "name": "ipython",
    "version": 3
   },
   "file_extension": ".py",
   "mimetype": "text/x-python",
   "name": "python",
   "nbconvert_exporter": "python",
   "pygments_lexer": "ipython3",
   "version": "3.13.7"
  }
 },
 "nbformat": 4,
 "nbformat_minor": 5
}
